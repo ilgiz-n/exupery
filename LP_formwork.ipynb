{
  "nbformat": 4,
  "nbformat_minor": 0,
  "metadata": {
    "colab": {
      "provenance": [],
      "authorship_tag": "ABX9TyOxaK0fk/m3usjdgC8gJBbT",
      "include_colab_link": true
    },
    "kernelspec": {
      "name": "python3",
      "display_name": "Python 3"
    },
    "language_info": {
      "name": "python"
    }
  },
  "cells": [
    {
      "cell_type": "markdown",
      "metadata": {
        "id": "view-in-github",
        "colab_type": "text"
      },
      "source": [
        "<a href=\"https://colab.research.google.com/github/ilgiz-n/exupery/blob/main/LP_formwork.ipynb\" target=\"_parent\"><img src=\"https://colab.research.google.com/assets/colab-badge.svg\" alt=\"Open In Colab\"/></a>"
      ]
    },
    {
      "cell_type": "code",
      "source": [
        "%pip install pulp"
      ],
      "metadata": {
        "id": "f3OgeIDbwDIP",
        "colab": {
          "base_uri": "https://localhost:8080/"
        },
        "outputId": "098f0da5-9ccb-4705-91d0-b0113f24a5d2"
      },
      "execution_count": 1,
      "outputs": [
        {
          "output_type": "stream",
          "name": "stdout",
          "text": [
            "Looking in indexes: https://pypi.org/simple, https://us-python.pkg.dev/colab-wheels/public/simple/\n",
            "Requirement already satisfied: pulp in /usr/local/lib/python3.10/dist-packages (2.7.0)\n"
          ]
        }
      ]
    },
    {
      "cell_type": "code",
      "execution_count": 2,
      "metadata": {
        "id": "VTT-PmnRawYa",
        "colab": {
          "base_uri": "https://localhost:8080/"
        },
        "outputId": "8b0a1e56-2895-4aff-c689-3dc814f27e65"
      },
      "outputs": [
        {
          "output_type": "stream",
          "name": "stdout",
          "text": [
            "status: 1, Optimal\n",
            "Total cost: 32400.0\n",
            "delta: 0.0\n",
            "x1: 0.0\n",
            "x2: 2.0\n",
            "x3: 0.0\n",
            "x4: 0.0\n",
            "x5: 2.0\n",
            "x6: 10.0\n"
          ]
        }
      ],
      "source": [
        "from pulp import *\n",
        "\n",
        "A = [5650, 3800, 5800, 4450]\n",
        "\n",
        "# Создание задачи линейного программирования\n",
        "prob = LpProblem(\"Formwork_Problem\", LpMinimize)\n",
        "delta = LpVariable(name=\"delta\", lowBound=0, cat=\"Integer\")\n",
        "\n",
        "# Описываем переменные\n",
        "x = {i: LpVariable(name=f\"x{i}\", lowBound=0, cat=\"Integer\") for i in range(1, 7)}\n",
        "\n",
        "# Описываем целевую функцию\n",
        "prob += 1550 * x[1] + 1700 * x[2] + 1775 * x[3] + 1850 * x[4] + 2250 * x[5] + 2450 * x[6]\n",
        "\n",
        "# Описываем ограничения\n",
        "\n",
        "prob += 300 * x[1] + 400 * x[2] + 450 * x[3] + 500 * x[4] + 750 * x[5] + 900 * x[6] == A[0] + delta\n",
        "prob += delta <= 250\n",
        "\n",
        "# Решаем задачу\n",
        "results = prob.solve()\n",
        "\n",
        "# Выводим результаты\n",
        "print(f\"status: {prob.status}, {LpStatus[prob.status]}\")\n",
        "print(f\"Total cost: {prob.objective.value() * 2}\")\n",
        "\n",
        "for var in prob.variables():\n",
        "    print(f\"{var.name}: {var.value() * 2}\")"
      ]
    },
    {
      "cell_type": "code",
      "source": [
        "from pulp import *\n",
        "import pandas as pd\n",
        "\n",
        "# Входные параметры\n",
        "# Длины стен в рабочей зоне\n",
        "\n",
        "# Опции с угловыми элементами (алюминий и сталь, соответственно):\n",
        "y1 = 300\n",
        "y2 = 250\n",
        "\n",
        "# Длина стен в зоне 'A' с плана:\n",
        "walls_A = [5850, 4300, 6000, 4650]\n",
        "\n",
        "# Рассчитываем откорректированные длины для опции y2 \n",
        "\n",
        "d1A_y2 = walls_A[0] - y2 + 50\n",
        "d2A_y2 = walls_A[1] - 2 * y2\n",
        "d3A_y2 = walls_A[2] - y2 + 50\n",
        "d4A_y2 = walls_A[3] - y2 + 50\n",
        "\n",
        "# Получаем откорректированные длины\n",
        "A = [d1A_y2, d2A_y2, d3A_y2, d4A_y2] \n",
        "\n",
        "# Данные об опалубке в формате \"ширина:стоимость\"\n",
        "cost = {\n",
        "    300: 1550, \n",
        "    400: 1700, \n",
        "    450: 1775, \n",
        "    500: 1850, \n",
        "    750: 2250, \n",
        "    900: 2450\n",
        "}\n",
        "\n",
        "# Решаем задачу линейного программирования для каждого значения A[i] из списка A\n",
        "result_dict = {}\n",
        "total_cost = 0\n",
        "for i in range(len(A)):\n",
        "    # Создаем задачу линейного программирования\n",
        "    prob = LpProblem(f\"Formwork_Problem{i}\", LpMinimize)\n",
        "    # Описываем переменные\n",
        "    x = {i: LpVariable(name=f\"{[*cost][i-1]}\", \n",
        "                       lowBound=0, cat=\"Integer\") for i in range(1,len(cost)+1)}\n",
        "    delta = LpVariable(name=\"delta\", lowBound=0, cat=\"Integer\")\n",
        "    # Определяем целевую функцию\n",
        "    prob += (\n",
        "        lpSum([*cost.values()][i-1] * x[i] for i in x),\n",
        "        \"Total Cost of panels for a wall\",\n",
        "    )\n",
        "    # Добавляем ограничения\n",
        "    prob += (\n",
        "        lpSum([*cost][i-1] * x[i] for i in x) == A[i] + delta,\n",
        "        \"Total width constraint of panels for a wall [i]\",\n",
        "    )\n",
        "    prob += delta <= 250\n",
        "    # Решаем задачу\n",
        "    results = prob.solve()\n",
        "    # Добавляем результаты в словарь\n",
        "    total_cost += prob.objective.value()\n",
        "    result_dict[A[i]] = {}\n",
        "    # Умножаем на 2, для подсчета с двух сторон\n",
        "    result_dict[A[i]]['Cost'] = prob.objective.value() * 2\n",
        "    for var in prob.variables():\n",
        "        result_dict[A[i]][var.name] = var.value() * 2\n",
        "        \n",
        "\n",
        "# Выводим результаты в виде таблицы\n",
        "result_table = pd.DataFrame(result_dict).T\n",
        "result_table.index.name = 'Wall'\n",
        "result_table.loc['Total']= result_table.sum()\n",
        "print(\"Результаты для зоны A\\n\")\n",
        "print(result_table)"
      ],
      "metadata": {
        "colab": {
          "base_uri": "https://localhost:8080/"
        },
        "id": "GRFuMSTAc5P3",
        "outputId": "29c0c684-b3cf-42f7-ec9c-e6e023a29447"
      },
      "execution_count": 3,
      "outputs": [
        {
          "output_type": "stream",
          "name": "stdout",
          "text": [
            "Результаты для зоны A\n",
            "\n",
            "           Cost  300  400  450  500  750   900  delta\n",
            "Wall                                                 \n",
            "5650    32400.0  0.0  2.0  0.0  0.0  2.0  10.0    0.0\n",
            "3800    22500.0  0.0  0.0  0.0  2.0  4.0   4.0    0.0\n",
            "5800    32800.0  0.0  2.0  0.0  0.0  0.0  12.0    0.0\n",
            "4450    24500.0  0.0  0.0  0.0  0.0  0.0  10.0  100.0\n",
            "Total  112200.0  0.0  4.0  0.0  2.0  6.0  36.0  100.0\n"
          ]
        }
      ]
    },
    {
      "cell_type": "code",
      "source": [
        "from pulp import *\n",
        "import pandas as pd\n",
        "\n",
        "# Входные параметры\n",
        "# Длины стен в рабочей зоне\n",
        "\n",
        "# Опции с угловыми элементами (алюминий и сталь, соответственно):\n",
        "y1 = 300\n",
        "y2 = 250\n",
        "\n",
        "# Длина стен в зоне 'A' с плана:\n",
        "walls_B = [5400, 4800, 4600, 6000]\n",
        "\n",
        "# Получаем откорректированные длины для опции y2 \n",
        "B = [x - y2 + 50 for x in walls_B]\n",
        "\n",
        "# Данные об опалубке в формате \"ширина:стоимость\"\n",
        "cost = {\n",
        "    300: 1550, \n",
        "    400: 1700, \n",
        "    450: 1775, \n",
        "    500: 1850, \n",
        "    750: 2250, \n",
        "    900: 2450\n",
        "}\n",
        "\n",
        "# Решаем задачу линейного программирования для каждого значения A[i] из списка A\n",
        "result_dict = {}\n",
        "total_cost = 0\n",
        "for i in range(len(B)):\n",
        "    # Создаем задачу линейного программирования\n",
        "    prob = LpProblem(f\"Formwork_Problem{i}\", LpMinimize)\n",
        "    # Описываем переменные\n",
        "    x = {i: LpVariable(name=f\"{[*cost][i-1]}\", \n",
        "                       lowBound=0, cat=\"Integer\") for i in range(1,len(cost)+1)}\n",
        "    delta = LpVariable(name=\"delta\", lowBound=0, cat=\"Integer\")\n",
        "    # Определяем целевую функцию\n",
        "    prob += (\n",
        "        lpSum([*cost.values()][i-1] * x[i] for i in x),\n",
        "        \"Total Cost of panels for a wall\",\n",
        "    )\n",
        "    # Добавляем ограничения\n",
        "    prob += delta <= 250\n",
        "    prob += (\n",
        "        lpSum([*cost][i-1] * x[i] for i in x) == B[i] + delta,\n",
        "        \"Total width constraint of panels for a wall [i]\",\n",
        "    )\n",
        "    # Решаем задачу\n",
        "    results = prob.solve()\n",
        "    # Добавляем результаты в словарь\n",
        "    total_cost += prob.objective.value()\n",
        "    result_dict[A[i]] = {}\n",
        "    # Умножаем на 2, для подсчета с двух сторон\n",
        "    result_dict[A[i]]['Cost'] = prob.objective.value() * 2\n",
        "    for var in prob.variables():\n",
        "        result_dict[A[i]][var.name] = var.value() * 2\n",
        "        \n",
        "\n",
        "# Выводим результаты в виде таблицы\n",
        "result_table = pd.DataFrame(result_dict).T\n",
        "result_table.index.name = 'Wall'\n",
        "result_table.loc['Total']= result_table.sum()\n",
        "print(\"Результаты для зоны B\\n\")\n",
        "print(result_table)"
      ],
      "metadata": {
        "colab": {
          "base_uri": "https://localhost:8080/"
        },
        "id": "3eMIBi_gfpl-",
        "outputId": "5b911283-6c94-42ab-e6eb-1f5690229589"
      },
      "execution_count": 4,
      "outputs": [
        {
          "output_type": "stream",
          "name": "stdout",
          "text": [
            "Результаты для зоны B\n",
            "\n",
            "           Cost  300  400  450  500  750   900  delta\n",
            "Wall                                                 \n",
            "5650    29000.0  0.0  0.0  0.0  0.0  2.0  10.0  100.0\n",
            "3800    27000.0  0.0  0.0  0.0  4.0  0.0   8.0    0.0\n",
            "5800    24500.0  0.0  0.0  0.0  0.0  0.0  10.0  200.0\n",
            "4450    32800.0  0.0  2.0  0.0  0.0  0.0  12.0    0.0\n",
            "Total  113300.0  0.0  2.0  0.0  4.0  2.0  40.0  300.0\n"
          ]
        }
      ]
    }
  ]
}
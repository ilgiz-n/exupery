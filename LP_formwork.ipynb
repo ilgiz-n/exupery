{
  "nbformat": 4,
  "nbformat_minor": 0,
  "metadata": {
    "colab": {
      "provenance": [],
      "authorship_tag": "ABX9TyOjtyMFe3wKeiICHRI/W/x1",
      "include_colab_link": true
    },
    "kernelspec": {
      "name": "python3",
      "display_name": "Python 3"
    },
    "language_info": {
      "name": "python"
    }
  },
  "cells": [
    {
      "cell_type": "markdown",
      "metadata": {
        "id": "view-in-github",
        "colab_type": "text"
      },
      "source": [
        "<a href=\"https://colab.research.google.com/github/ilgiz-n/exupery/blob/main/LP_formwork.ipynb\" target=\"_parent\"><img src=\"https://colab.research.google.com/assets/colab-badge.svg\" alt=\"Open In Colab\"/></a>"
      ]
    },
    {
      "cell_type": "markdown",
      "source": [
        "# Решение задачи оптимальной раскладки стеновой опалубки на Python\n",
        "\n",
        "Исходные данные и модель решения задачи написаны на основании статьи [Optimization of Vertical Formwork Layout Plans Using Mixed Integer Linear Programming](https://link.springer.com/article/10.1007/s40999-016-0090-6). \n",
        "\n",
        "В связи с тем в подобранных комплектах неизменными остаются конструкции углов - в расчетах не учтены и в результатах соответственно не показаны дополнительные щиты для устройства углов (отображенные в табл.3 в статье): для L-образного угла в захватке A: щит 500 мм (в табл.3 - $x_4$) и универсальный 900 мм (в табл.3 - $x_7$); T-образного угла в захватке A: щит 750 мм (в табл.3 - $x_5$), что также отражно в стоимости. Материал угловых элементов - сталь, как самый дешевый вариант (опция $y2$).\n",
        "\n",
        "В части 2 выполнен расчет раскладки опалубки для захваток \"A\" и \"B\" по отдельности, а в части 3 также совместный расчет для двух захваток в целях оптимизации комплектов опалубки (под повторное использование). В результате оптимизации показан экономический эффект - удешевление почти на 10% стоимости аренды комплекта, по сравнению со стоимостью комплекта подобранного из максимального количества опалубки (по каждому типоразмеру) из раскладок выполненных для захваток \"A\" и \"B\" по отдельности.\n",
        "\n"
      ],
      "metadata": {
        "id": "dIrIIV74oM1O"
      }
    },
    {
      "cell_type": "code",
      "source": [
        "%pip install pulp"
      ],
      "metadata": {
        "id": "f3OgeIDbwDIP",
        "colab": {
          "base_uri": "https://localhost:8080/"
        },
        "outputId": "7c0f40e4-6403-437d-de21-0809de0513c8"
      },
      "execution_count": null,
      "outputs": [
        {
          "output_type": "stream",
          "name": "stdout",
          "text": [
            "Looking in indexes: https://pypi.org/simple, https://us-python.pkg.dev/colab-wheels/public/simple/\n",
            "Requirement already satisfied: pulp in /usr/local/lib/python3.10/dist-packages (2.7.0)\n"
          ]
        }
      ]
    },
    {
      "cell_type": "markdown",
      "source": [
        "# Часть 1. Быстрый старт. Расчет для отдельной стены на участке \"A\""
      ],
      "metadata": {
        "id": "TX4rtPM6pC8S"
      }
    },
    {
      "cell_type": "code",
      "execution_count": null,
      "metadata": {
        "id": "VTT-PmnRawYa",
        "colab": {
          "base_uri": "https://localhost:8080/"
        },
        "outputId": "0233229a-0b4d-40d1-e3e8-c12367a6ffee"
      },
      "outputs": [
        {
          "output_type": "stream",
          "name": "stdout",
          "text": [
            "status: 1, Optimal\n",
            "Total cost: 32400.0\n",
            "delta: 0.0\n",
            "x1: 0.0\n",
            "x2: 2.0\n",
            "x3: 0.0\n",
            "x4: 0.0\n",
            "x5: 2.0\n",
            "x6: 10.0\n"
          ]
        }
      ],
      "source": [
        "from pulp import *\n",
        "\n",
        "A = [5650, 3800, 5800, 4450]\n",
        "\n",
        "# Создание задачи линейного программирования\n",
        "prob = LpProblem(\"Formwork_Problem\", LpMinimize)\n",
        "delta = LpVariable(name=\"delta\", lowBound=0, cat=\"Integer\")\n",
        "\n",
        "# Описываем переменные\n",
        "x = {i: LpVariable(name=f\"x{i}\", lowBound=0, cat=\"Integer\") for i in range(1, 7)}\n",
        "\n",
        "# Описываем целевую функцию\n",
        "prob += 1550 * x[1] + 1700 * x[2] + 1775 * x[3] + 1850 * x[4] + 2250 * x[5] + 2450 * x[6]\n",
        "\n",
        "# Описываем ограничения\n",
        "\n",
        "prob += 300 * x[1] + 400 * x[2] + 450 * x[3] + 500 * x[4] + 750 * x[5] + 900 * x[6] == A[0] + delta\n",
        "prob += delta <= 250\n",
        "\n",
        "# Решаем задачу\n",
        "results = prob.solve()\n",
        "\n",
        "# Выводим результаты\n",
        "print(f\"status: {prob.status}, {LpStatus[prob.status]}\")\n",
        "print(f\"Total cost: {prob.objective.value() * 2}\")\n",
        "\n",
        "for var in prob.variables():\n",
        "    print(f\"{var.name}: {var.value() * 2}\")"
      ]
    },
    {
      "cell_type": "markdown",
      "source": [
        "# Часть 2. Расчет опалубки для каждого из участков по отдельности"
      ],
      "metadata": {
        "id": "ipASTJYTrWXd"
      }
    },
    {
      "cell_type": "code",
      "source": [
        "# Участок А \n",
        "from pulp import *\n",
        "import pandas as pd\n",
        "\n",
        "# Входные параметры\n",
        "# Длины стен в рабочей зоне\n",
        "\n",
        "# Опции с угловыми элементами (алюминий и сталь, соответственно):\n",
        "y1 = 300\n",
        "y2 = 250\n",
        "\n",
        "# Длина стен в зоне 'A' с плана:\n",
        "walls_A = [5850, 4300, 6000, 4650]\n",
        "\n",
        "# Рассчитываем откорректированные длины для опции y2 \n",
        "\n",
        "d1A_y2 = walls_A[0] - y2 + 50\n",
        "d2A_y2 = walls_A[1] - 2 * y2\n",
        "d3A_y2 = walls_A[2] - y2 + 50\n",
        "d4A_y2 = walls_A[3] - y2 + 50\n",
        "\n",
        "# Получаем откорректированные длины\n",
        "A = [d1A_y2, d2A_y2, d3A_y2, d4A_y2] \n",
        "\n",
        "# Данные об опалубке в формате \"ширина:стоимость\"\n",
        "cost = {\n",
        "    300: 1550, \n",
        "    400: 1700, \n",
        "    450: 1775, \n",
        "    500: 1850, \n",
        "    750: 2250, \n",
        "    900: 2450\n",
        "}\n",
        "\n",
        "# Решаем задачу линейного программирования для каждого значения A[i] из списка A\n",
        "result_dict = {}\n",
        "total_cost = 0\n",
        "for i in range(len(A)):\n",
        "    # Создаем задачу линейного программирования\n",
        "    prob = LpProblem(f\"Formwork_Problem{i}\", LpMinimize)\n",
        "    # Описываем переменные\n",
        "    x = {i: LpVariable(name=f\"{[*cost][i-1]}\", \n",
        "                       lowBound=0, cat=\"Integer\") for i in range(1,len(cost)+1)}\n",
        "    delta = LpVariable(name=\"delta\", lowBound=0, cat=\"Integer\")\n",
        "    # Определяем целевую функцию\n",
        "    prob += (\n",
        "        lpSum([*cost.values()][i-1] * x[i] for i in x),\n",
        "        \"Total Cost of panels for a wall\",\n",
        "    )\n",
        "    # Добавляем ограничения\n",
        "    prob += (\n",
        "        lpSum([*cost][i-1] * x[i] for i in x) == A[i] + delta,\n",
        "        \"Total width constraint of panels for a wall [i]\",\n",
        "    )\n",
        "    prob += delta <= 250\n",
        "    # Решаем задачу\n",
        "    results = prob.solve()\n",
        "    # Добавляем результаты в словарь\n",
        "    total_cost += prob.objective.value()\n",
        "    result_dict[A[i]] = {}\n",
        "    # Умножаем на 2, для подсчета с двух сторон\n",
        "    result_dict[A[i]]['Cost'] = prob.objective.value() * 2\n",
        "    for var in prob.variables():\n",
        "        result_dict[A[i]][var.name] = var.value() * 2\n",
        "        \n",
        "\n",
        "# Выводим результаты в виде таблицы\n",
        "result_table_A = pd.DataFrame(result_dict).T\n",
        "result_table_A.index.name = 'Wall'\n",
        "result_table_A.loc['Total']= result_table_A.sum()\n",
        "print(\"Результаты для зоны A\\n\")\n",
        "print(result_table_A)\n"
      ],
      "metadata": {
        "colab": {
          "base_uri": "https://localhost:8080/"
        },
        "id": "GRFuMSTAc5P3",
        "outputId": "ce684657-7d6d-4100-91c1-98d9622a0396"
      },
      "execution_count": null,
      "outputs": [
        {
          "output_type": "stream",
          "name": "stdout",
          "text": [
            "Результаты для зоны A\n",
            "\n",
            "           Cost  300  400  450  500  750   900  delta\n",
            "Wall                                                 \n",
            "5650    32400.0  0.0  2.0  0.0  0.0  2.0  10.0    0.0\n",
            "3800    22500.0  0.0  0.0  0.0  2.0  4.0   4.0    0.0\n",
            "5800    32800.0  0.0  2.0  0.0  0.0  0.0  12.0    0.0\n",
            "4450    24500.0  0.0  0.0  0.0  0.0  0.0  10.0  100.0\n",
            "Total  112200.0  0.0  4.0  0.0  2.0  6.0  36.0  100.0\n"
          ]
        }
      ]
    },
    {
      "cell_type": "code",
      "source": [
        "# Участок B\n",
        "from pulp import *\n",
        "import pandas as pd\n",
        "\n",
        "# Входные параметры\n",
        "# Длины стен в рабочей зоне\n",
        "\n",
        "# Опции с угловыми элементами (алюминий и сталь, соответственно):\n",
        "y1 = 300\n",
        "y2 = 250\n",
        "\n",
        "# Длина стен в зоне 'A' с плана:\n",
        "walls_B = [5400, 4800, 4600, 6000]\n",
        "\n",
        "# Получаем откорректированные длины для опции y2 \n",
        "B = [x - y2 + 50 for x in walls_B]\n",
        "\n",
        "# Данные об опалубке в формате \"ширина:стоимость\"\n",
        "cost = {\n",
        "    300: 1550, \n",
        "    400: 1700, \n",
        "    450: 1775, \n",
        "    500: 1850, \n",
        "    750: 2250, \n",
        "    900: 2450\n",
        "}\n",
        "\n",
        "# Решаем задачу линейного программирования для каждого значения A[i] из списка A\n",
        "result_dict = {}\n",
        "total_cost = 0\n",
        "for i in range(len(B)):\n",
        "    # Создаем задачу линейного программирования\n",
        "    prob = LpProblem(f\"Formwork_Problem{i}\", LpMinimize)\n",
        "    # Описываем переменные\n",
        "    x = {i: LpVariable(name=f\"{[*cost][i-1]}\", \n",
        "                       lowBound=0, cat=\"Integer\") for i in range(1,len(cost)+1)}\n",
        "    delta = LpVariable(name=\"delta\", lowBound=0, cat=\"Integer\")\n",
        "    # Определяем целевую функцию\n",
        "    prob += (\n",
        "        lpSum([*cost.values()][i-1] * x[i] for i in x),\n",
        "        \"Total Cost of panels for a wall\",\n",
        "    )\n",
        "    # Добавляем ограничения\n",
        "    prob += delta <= 250\n",
        "    prob += (\n",
        "        lpSum([*cost][i-1] * x[i] for i in x) == B[i] + delta,\n",
        "        \"Total width constraint of panels for a wall [i]\",\n",
        "    )\n",
        "    # Решаем задачу\n",
        "    results = prob.solve()\n",
        "    # Добавляем результаты в словарь\n",
        "    total_cost += prob.objective.value()\n",
        "    result_dict[B[i]] = {}\n",
        "    # Умножаем на 2, для подсчета с двух сторон\n",
        "    result_dict[B[i]]['Cost'] = prob.objective.value() * 2\n",
        "    for var in prob.variables():\n",
        "        result_dict[B[i]][var.name] = var.value() * 2\n",
        "        \n",
        "\n",
        "# Выводим результаты в виде таблицы\n",
        "result_table_B = pd.DataFrame(result_dict).T\n",
        "result_table_B.index.name = 'Wall'\n",
        "result_table_B.loc['Total']= result_table_B.sum()\n",
        "print(\"Результаты для зоны B\\n\")\n",
        "print(result_table_B)"
      ],
      "metadata": {
        "colab": {
          "base_uri": "https://localhost:8080/"
        },
        "id": "0vFG1I9noGW_",
        "outputId": "cc3a32b4-4195-49f9-ea0d-7887d4674ea0"
      },
      "execution_count": null,
      "outputs": [
        {
          "output_type": "stream",
          "name": "stdout",
          "text": [
            "Результаты для зоны B\n",
            "\n",
            "           Cost  300  400  450  500  750   900  delta\n",
            "Wall                                                 \n",
            "5200    29000.0  0.0  0.0  0.0  0.0  2.0  10.0  100.0\n",
            "4600    27000.0  0.0  0.0  0.0  4.0  0.0   8.0    0.0\n",
            "4400    24500.0  0.0  0.0  0.0  0.0  0.0  10.0  200.0\n",
            "5800    32800.0  0.0  2.0  0.0  0.0  0.0  12.0    0.0\n",
            "Total  113300.0  0.0  2.0  0.0  4.0  2.0  40.0  300.0\n"
          ]
        }
      ]
    },
    {
      "cell_type": "markdown",
      "source": [
        "### Посчитаем общую стоимость комплекта опалубки с количеством определенным из максимального количества каждого типа для каждой из захваток"
      ],
      "metadata": {
        "id": "Iet_giPYrnjy"
      }
    },
    {
      "cell_type": "code",
      "source": [
        "total_A = result_table_A.iloc[-1].drop(['Cost', 'delta'])\n",
        "total_B = result_table_B.iloc[-1].drop(['Cost', 'delta'])\n",
        "max_AB = pd.DataFrame([total_A, total_B]).max()\n",
        "total_cost_max_AB = sum(max_AB.to_dict()[str(k)]*cost[k] for k in cost)\n",
        "max_AB = pd.DataFrame({'Type':max_AB.index, 'Count':max_AB.values})\n",
        "print('Комплектность опалубки из условия обеспечения потребности для \\n' \n",
        "       'каждой захватки (максимальное количество каждого типоразмера \\n'\n",
        "        'из строки Total результатов для зоны A и B)\\n')\n",
        "print(max_AB.to_string(),'\\n')\n",
        "print(f'Общая стоимость комплекта опалубки: {total_cost_max_AB}')"
      ],
      "metadata": {
        "colab": {
          "base_uri": "https://localhost:8080/"
        },
        "id": "ByGg8gf_rlpU",
        "outputId": "05d5c4b8-4034-40fb-9fe3-7bfcf8ad3973"
      },
      "execution_count": null,
      "outputs": [
        {
          "output_type": "stream",
          "name": "stdout",
          "text": [
            "Комплектность опалубки из условия обеспечения потребности для \n",
            "каждой захватки (максимальное количество каждого типоразмера \n",
            "из строки Total результатов для зоны A и B)\n",
            "\n",
            "  Type  Count\n",
            "0  300    0.0\n",
            "1  400    4.0\n",
            "2  450    0.0\n",
            "3  500    4.0\n",
            "4  750    6.0\n",
            "5  900   40.0 \n",
            "\n",
            "Общая стоимость комплекта опалубки: 125700.0\n"
          ]
        }
      ]
    },
    {
      "cell_type": "markdown",
      "source": [
        "# Часть 3. Расчет для двух участков"
      ],
      "metadata": {
        "id": "ggC0P2Dmr8A1"
      }
    },
    {
      "cell_type": "code",
      "source": [
        "from pulp import *\n",
        "\n",
        "\n",
        "workzones = ['A','B']\n",
        "wall_numbers = ['1','2','3','4']\n",
        "\n",
        "# Длина стен на участке 'A' с плана:\n",
        "walls_A = [5850, 4300, 6000, 4650]\n",
        "\n",
        "# Опции с угловыми элементами (алюминий и сталь, соответственно):\n",
        "y1 = 300\n",
        "y2 = 250\n",
        "\n",
        "# Рассчитываем откорректированные длины для опции y2\n",
        "y = y2 \n",
        "overlap = 0\n",
        "d1A_y = walls_A[0] - y + overlap\n",
        "d2A_y = walls_A[1] - 2 * y\n",
        "d3A_y = walls_A[2] - y + overlap\n",
        "d4A_y = walls_A[3] - y + overlap\n",
        "\n",
        "# Получаем откорректированные длины\n",
        "A = [d1A_y, d2A_y, d3A_y, d4A_y]\n",
        "A_enumerated = dict(zip(wall_numbers, A))\n",
        "\n",
        "# Длина стен в зоне 'B' с плана:\n",
        "walls_B = [5400, 4800, 4600, 6000]\n",
        "\n",
        "# Получаем откорректированные длины для опции y2 \n",
        "B = [x - y + overlap for x in walls_B]\n",
        "B_enumerated = dict(zip(wall_numbers, B))\n",
        "\n",
        "# Словарь со стенами на двух участках A и B \n",
        "walls_AB = {zone: {'A': A_enumerated, 'B': B_enumerated}[zone] for zone in workzones}\n",
        "\n",
        "# Данные об опалубке в формате \"ширина:стоимость\"\n",
        "panels = {\n",
        "    300: 1550, \n",
        "    400: 1700, \n",
        "    450: 1775, \n",
        "    500: 1850, \n",
        "    750: 2250, \n",
        "    900: 2450\n",
        "}\n",
        "\n",
        "# Фиксированная стоимость изготовления доборного элемента\n",
        "cs = 5000 \n",
        "\n",
        "# Создаем задачу линейного программирования\n",
        "prob = LpProblem(f\"Formwork_two_zones\", LpMinimize)\n",
        "\n",
        "# Описываем переменные \n",
        "panels_var = [f\"x{i+1}\" for i in range(len(panels))]\n",
        "panels_width = dict(zip(panels_var,[*panels]))\n",
        "panels_cost= dict(zip(panels_var,[*panels.values()]))\n",
        "\n",
        "x = LpVariable.dicts('panel', panels_var, lowBound=0, cat=\"Integer\")\n",
        "\n",
        "workzone_panels = LpVariable.dicts(\n",
        "    'WZ', (workzones, x), lowBound=0, cat=\"Integer\")\n",
        "\n",
        "workzone_wall_panels = LpVariable.dicts(\n",
        "    'WZW', (workzones, wall_numbers, x), lowBound=0, cat=\"Integer\")\n",
        "\n",
        "overlap = LpVariable.dicts(\n",
        "   'wall_overlap', (workzones, wall_numbers), lowBound=50, upBound=300, cat=\"Integer\")\n",
        "\n",
        "adj_el_width = LpVariable.dicts(\n",
        "    'adj_el_width', (workzones, wall_numbers), lowBound=0, upBound=250, cat=\"Integer\")\n",
        "\n",
        "adj_el_bin = LpVariable.dicts(\n",
        "    'adj_el_bin', (workzones, wall_numbers), cat=\"Binary\")\n",
        "\n",
        "M = 100\n",
        "\n",
        "# Определяем целевую функцию\n",
        "prob += lpSum(panels_cost[i] * x[i] for i in x) \\\n",
        "        + 2 * lpSum(cs * adj_el_bin[k][j] for k in workzones for j in wall_numbers)\n",
        "\n",
        "# Описываем ограничения\n",
        "\n",
        "for k in workzones:\n",
        "  for j in wall_numbers:\n",
        "    # отдельное условие для стены ограниченной углами\n",
        "    if walls_AB[k][j] ==  3800:\n",
        "      prob += walls_AB[k][j] - lpSum(panels_width[i] * workzone_wall_panels[k][j][i] for i in x) == adj_el_width[k][j]\n",
        "      prob += M * adj_el_bin[k][j] >= adj_el_width[k][j]\n",
        "    else:\n",
        "      prob += lpSum(panels_width[i] * workzone_wall_panels[k][j][i] for i in x) == walls_AB[k][j] + overlap[k][j]\n",
        "for k in workzones:\n",
        "  for j in wall_numbers:\n",
        "    for i in x:\n",
        "      prob += workzone_panels[k][i] <= x[i]\n",
        "for k in workzones:\n",
        "  for i in x:\n",
        "    prob += workzone_panels[k][i] == 2 * lpSum(workzone_wall_panels[k][j][i] for j in wall_numbers)\n",
        "    \n",
        "\n",
        "# Решаем задачу\n",
        "# solver = PULP_CBC_CMD()\n",
        "prob.solve()\n",
        "\n",
        "# Статус решения задачи\n",
        "print(\"Status:\", LpStatus[prob.status])\n",
        "\n",
        "# Результаты\n",
        "\n",
        "# Каждая из переменных выводится с найденным оптимальным значением.\n",
        "for v in prob.variables():\n",
        "    print(v.name, \"=\", v.varValue)\n",
        "\n",
        "# Оптимизированное значение целевой функции (стоимость комплекта опалубки)\n",
        "Total_cost_AB_optimized = pulp.value(prob.objective)\n",
        "print(\"Total cost = \", Total_cost_AB_optimized)"
      ],
      "metadata": {
        "colab": {
          "base_uri": "https://localhost:8080/"
        },
        "outputId": "25abd5ab-16d8-4865-d77e-77e61f017a92",
        "id": "VI4geEh-BKtr"
      },
      "execution_count": null,
      "outputs": [
        {
          "output_type": "stream",
          "name": "stdout",
          "text": [
            "Status: Optimal\n",
            "WZW_A_1_x1 = 0.0\n",
            "WZW_A_1_x2 = 0.0\n",
            "WZW_A_1_x3 = 0.0\n",
            "WZW_A_1_x4 = 1.0\n",
            "WZW_A_1_x5 = 0.0\n",
            "WZW_A_1_x6 = 6.0\n",
            "WZW_A_2_x1 = 0.0\n",
            "WZW_A_2_x2 = 0.0\n",
            "WZW_A_2_x3 = 0.0\n",
            "WZW_A_2_x4 = 1.0\n",
            "WZW_A_2_x5 = 2.0\n",
            "WZW_A_2_x6 = 2.0\n",
            "WZW_A_3_x1 = 0.0\n",
            "WZW_A_3_x2 = 0.0\n",
            "WZW_A_3_x3 = 0.0\n",
            "WZW_A_3_x4 = 0.0\n",
            "WZW_A_3_x5 = 2.0\n",
            "WZW_A_3_x6 = 5.0\n",
            "WZW_A_4_x1 = 0.0\n",
            "WZW_A_4_x2 = 0.0\n",
            "WZW_A_4_x3 = 0.0\n",
            "WZW_A_4_x4 = 0.0\n",
            "WZW_A_4_x5 = 0.0\n",
            "WZW_A_4_x6 = 5.0\n",
            "WZW_B_1_x1 = 0.0\n",
            "WZW_B_1_x2 = 0.0\n",
            "WZW_B_1_x3 = 0.0\n",
            "WZW_B_1_x4 = 0.0\n",
            "WZW_B_1_x5 = 1.0\n",
            "WZW_B_1_x6 = 5.0\n",
            "WZW_B_2_x1 = 0.0\n",
            "WZW_B_2_x2 = 0.0\n",
            "WZW_B_2_x3 = 0.0\n",
            "WZW_B_2_x4 = 2.0\n",
            "WZW_B_2_x5 = 0.0\n",
            "WZW_B_2_x6 = 4.0\n",
            "WZW_B_3_x1 = 0.0\n",
            "WZW_B_3_x2 = 0.0\n",
            "WZW_B_3_x3 = 0.0\n",
            "WZW_B_3_x4 = 0.0\n",
            "WZW_B_3_x5 = 0.0\n",
            "WZW_B_3_x6 = 5.0\n",
            "WZW_B_4_x1 = 0.0\n",
            "WZW_B_4_x2 = 0.0\n",
            "WZW_B_4_x3 = 0.0\n",
            "WZW_B_4_x4 = 0.0\n",
            "WZW_B_4_x5 = 3.0\n",
            "WZW_B_4_x6 = 4.0\n",
            "WZ_A_x1 = 0.0\n",
            "WZ_A_x2 = 0.0\n",
            "WZ_A_x3 = 0.0\n",
            "WZ_A_x4 = 4.0\n",
            "WZ_A_x5 = 8.0\n",
            "WZ_A_x6 = 36.0\n",
            "WZ_B_x1 = 0.0\n",
            "WZ_B_x2 = 0.0\n",
            "WZ_B_x3 = 0.0\n",
            "WZ_B_x4 = 4.0\n",
            "WZ_B_x5 = 8.0\n",
            "WZ_B_x6 = 36.0\n",
            "adj_el_bin_A_1 = 0.0\n",
            "adj_el_bin_A_2 = 0.0\n",
            "adj_el_bin_A_3 = 0.0\n",
            "adj_el_bin_A_4 = 0.0\n",
            "adj_el_bin_B_1 = 0.0\n",
            "adj_el_bin_B_2 = 0.0\n",
            "adj_el_bin_B_3 = 0.0\n",
            "adj_el_bin_B_4 = 0.0\n",
            "adj_el_width_A_2 = 0.0\n",
            "panel_x1 = 0.0\n",
            "panel_x2 = 0.0\n",
            "panel_x3 = 0.0\n",
            "panel_x4 = 4.0\n",
            "panel_x5 = 8.0\n",
            "panel_x6 = 36.0\n",
            "wall_overlap_A_1 = 300.0\n",
            "wall_overlap_A_3 = 250.0\n",
            "wall_overlap_A_4 = 100.0\n",
            "wall_overlap_B_1 = 100.0\n",
            "wall_overlap_B_2 = 50.0\n",
            "wall_overlap_B_3 = 150.0\n",
            "wall_overlap_B_4 = 100.0\n",
            "Total cost =  113600.0\n"
          ]
        }
      ]
    },
    {
      "cell_type": "markdown",
      "source": [
        "### Сравним стоимость комплекта посчитанного в части 2 и 3."
      ],
      "metadata": {
        "id": "zqetpEXetSCk"
      }
    },
    {
      "cell_type": "code",
      "source": [
        "effect = 100*(1-Total_cost_AB_optimized/total_cost_max_AB)\n",
        "print(f'Процент снижения стоимости комплекта {round(effect,2)}%')"
      ],
      "metadata": {
        "colab": {
          "base_uri": "https://localhost:8080/"
        },
        "id": "61hp-AGytcWu",
        "outputId": "791a15b2-1727-4b20-8407-12640315ae28"
      },
      "execution_count": null,
      "outputs": [
        {
          "output_type": "stream",
          "name": "stdout",
          "text": [
            "Процент снижения стоимости комплекта 9.63%\n"
          ]
        }
      ]
    }
  ]
}